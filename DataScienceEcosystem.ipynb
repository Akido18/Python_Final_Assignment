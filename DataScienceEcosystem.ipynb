{
 "cells": [
  {
   "cell_type": "markdown",
   "id": "206eece2-a550-4e93-8e7d-8c74b0abee6f",
   "metadata": {},
   "source": [
    "# Data Science Tools and Ecosystem"
   ]
  },
  {
   "cell_type": "markdown",
   "id": "60d4781b-3550-49dd-8e67-686676ec5520",
   "metadata": {},
   "source": [
    "In this notebook, Data Science Tools and Ecosystem are summarized."
   ]
  },
  {
   "cell_type": "markdown",
   "id": "d5f63a8f-0dc8-4bcc-9737-089b70fe91ec",
   "metadata": {},
   "source": [
    "__Objectives:__\n",
    "\n",
    "List popular languages for Data Science\n",
    "                      \n",
    "-Some of the commonly used libraries used by Data Scientists\n",
    "\n",
    "-Data Science Tools used by Data Scientists \n",
    "\n",
    "-Arthemeitc Expressions in Python "
   ]
  },
  {
   "cell_type": "raw",
   "id": "71af0b1b-98f7-454a-b8d4-90c5deced3ae",
   "metadata": {},
   "source": [
    "Some of the popular languages that Data Scientists use are:\n",
    "1. C++\n",
    "2. JavaScript\n",
    "3.Python\n",
    "4. R"
   ]
  },
  {
   "cell_type": "raw",
   "id": "a23a87a5-019a-4c6b-bed5-ce9766bb57b9",
   "metadata": {},
   "source": [
    "Some of the commonly used libraries used by Data Scientists include:\n",
    "1. Matplotlib\n",
    "2. NumPy\n",
    "3. TensorFlow\n",
    "4. Skikit-learn\n",
    "5. Pandas"
   ]
  },
  {
   "cell_type": "markdown",
   "id": "f6993d57-f421-4881-ac6b-60d0f83e9a6f",
   "metadata": {},
   "source": [
    "| Data Science Tools | \n",
    "| -------------| \n",
    "| Jupyter Notebook | \n",
    "| VS Code |\n",
    "| RStudio| "
   ]
  },
  {
   "cell_type": "markdown",
   "id": "d1167d44-4bb1-445d-8ae9-03f82368b21b",
   "metadata": {},
   "source": [
    "### Below are a few examples of evaluating arithmetic expressions in Python"
   ]
  },
  {
   "cell_type": "code",
   "execution_count": 5,
   "id": "4a547cb9-3f9c-4882-99b8-afe5261d091a",
   "metadata": {},
   "outputs": [
    {
     "data": {
      "text/plain": [
       "17"
      ]
     },
     "execution_count": 5,
     "metadata": {},
     "output_type": "execute_result"
    }
   ],
   "source": [
    "#This a simple arithmetic expression to mutiply then add integers\n",
    "(3*4)+5"
   ]
  },
  {
   "cell_type": "code",
   "execution_count": 14,
   "id": "c70370c8-13d9-435e-b021-d2935af12df2",
   "metadata": {},
   "outputs": [
    {
     "data": {
      "text/plain": [
       "3.3"
      ]
     },
     "execution_count": 14,
     "metadata": {},
     "output_type": "execute_result"
    }
   ],
   "source": [
    "#This will convert 200 minutes to hours by diving by 60\n",
    "minutes_hours = (200 / 60)\n",
    "round (minutes_hours, 1)"
   ]
  },
  {
   "cell_type": "markdown",
   "id": "0de259a0-79e4-4423-a526-7724eda2586b",
   "metadata": {},
   "source": [
    "## Author\n",
    "Antoinne Dwen Kerr-Graham "
   ]
  },
  {
   "cell_type": "code",
   "execution_count": null,
   "id": "7410347c-58cb-407c-bea1-587f2cb17739",
   "metadata": {},
   "outputs": [],
   "source": []
  }
 ],
 "metadata": {
  "kernelspec": {
   "display_name": "Python [conda env:base] *",
   "language": "python",
   "name": "conda-base-py"
  },
  "language_info": {
   "codemirror_mode": {
    "name": "ipython",
    "version": 3
   },
   "file_extension": ".py",
   "mimetype": "text/x-python",
   "name": "python",
   "nbconvert_exporter": "python",
   "pygments_lexer": "ipython3",
   "version": "3.13.5"
  }
 },
 "nbformat": 4,
 "nbformat_minor": 5
}
